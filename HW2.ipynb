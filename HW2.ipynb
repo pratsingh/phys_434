{
 "cells": [
  {
   "cell_type": "code",
   "execution_count": 1,
   "metadata": {},
   "outputs": [],
   "source": [
    "import numpy as np\n",
    "from scipy import stats\n",
    "import pandas as pd\n",
    "import matplotlib.pyplot as plt"
   ]
  },
  {
   "cell_type": "markdown",
   "metadata": {},
   "source": [
    "### 1.\n",
    "The probability of rolling 2 ones is : $\\frac{1}{6}$ * $\\frac{1}{6}$ = $\\frac{1}{36}$. <br>\n",
    "For dice to sum to 7 we have the following pairs: (1,6) (2,5) (3,4) (4,3) (5,2) (6,1) or $\\frac{6}{36}$ = $\\frac{1}{6}$. <br>\n",
    "For the ratio of these probabilities: P(two_ones) / P(sum7) = $\\frac{1}{36}$ * $\\frac{6}{1}$ = $\\frac{1}{6}$."
   ]
  },
  {
   "cell_type": "markdown",
   "metadata": {},
   "source": [
    "### 2.\n",
    "If we have sums 2 3 4 5 6 7 8 9 10 11 12 <br>\n",
    "Combinations for each: <br>\n",
    "2 : (1,1)                          <br>\n",
    "3 : (1,2) (2,1)                       <br>\n",
    "4 : (1,3) (2,2) (3,1)                     <br>\n",
    "5 : (1,4) (2,3) (3,2) (4,1)               <br>\n",
    "6 : (1,5) (2,4) (3,3) (4,2) (5,1)               <br>\n",
    "7 : (1,6) (2,5) (3,4) (4,3) (5,2) (6,1)            <br>\n",
    "8 : (2,6) (3,5) (4,4) (5,3) (6,2)            <br>\n",
    "9 : (3,6) (4,5) (5,4) (6,3)             <br>\n",
    "10: (4,6) (5,5) (6,4)                     <br>\n",
    "11: (5,6) (6,5)                <br>\n",
    "12: (6,6)"
   ]
  },
  {
   "cell_type": "code",
   "execution_count": 2,
   "metadata": {},
   "outputs": [
    {
     "name": "stdout",
     "output_type": "stream",
     "text": [
      "[0.02777778 0.05555556 0.08333333 0.11111111 0.13888889 0.16666667\n",
      " 0.13888889 0.11111111 0.08333333 0.05555556 0.02777778]\n"
     ]
    },
    {
     "data": {
      "image/png": "[encoded data removed]",
      "text/plain": [
       "<Figure size 432x288 with 1 Axes>"
      ]
     },
     "metadata": {
      "needs_background": "light"
     },
     "output_type": "display_data"
    }
   ],
   "source": [
    "# number 2\n",
    "sum_prob = [1/36,2/36,3/36,4/36,5/36,6/36,5/36,4/36,3/36,2/36,1/36]\n",
    "sums = [2,3,4,5,6,7,8,9,10,11,12]\n",
    "a = [1/6,1/6,1/6,1/6,1/6,1/6]\n",
    "\n",
    "convolve = np.convolve(a,a)\n",
    "print(convolve)\n",
    "plt.plot(sums,convolve,linewidth=4);"
   ]
  },
  {
   "cell_type": "markdown",
   "metadata": {},
   "source": [
    "### 3"
   ]
  },
  {
   "cell_type": "code",
   "execution_count": 3,
   "metadata": {},
   "outputs": [
    {
     "name": "stdout",
     "output_type": "stream",
     "text": [
      "The mean is\n",
      "7.0\n"
     ]
    }
   ],
   "source": [
    "# 3\n",
    "print(\"The mean is\")\n",
    "print(sum(sums*convolve))"
   ]
  },
  {
   "cell_type": "code",
   "execution_count": 4,
   "metadata": {},
   "outputs": [
    {
     "name": "stdout",
     "output_type": "stream",
     "text": [
      "5.833333333333334\n"
     ]
    }
   ],
   "source": [
    "mean = sum(sums*convolve)\n",
    "x1 = (sums-mean)**2\n",
    "var = sum(x1*convolve)\n",
    "print(var)"
   ]
  },
  {
   "cell_type": "markdown",
   "metadata": {},
   "source": [
    "I would say this result makes sense, if we take the standard deviation from the variance, we get around 2.4 or approximately 2. 2 standard deviations from the mean would be close to 12, which means that the probability of getting a 12 sum is low or 2.2% of the total probability."
   ]
  },
  {
   "cell_type": "markdown",
   "metadata": {},
   "source": [
    "### 4"
   ]
  },
  {
   "cell_type": "code",
   "execution_count": 5,
   "metadata": {},
   "outputs": [
    {
     "name": "stdout",
     "output_type": "stream",
     "text": [
      "The mean is: 3.5002160000000004\n",
      "The standard deviation is: 0.5397189577400445\n"
     ]
    },
    {
     "data": {
      "image/png": "[encoded data removed]",
      "text/plain": [
       "<Figure size 432x288 with 1 Axes>"
      ]
     },
     "metadata": {
      "needs_background": "light"
     },
     "output_type": "display_data"
    }
   ],
   "source": [
    "fig, ax = plt.subplots(1,1)\n",
    "dice = [1,2,3,4,5,6]\n",
    "r = []\n",
    "avg_ten = []\n",
    "for i in range(0,100000):\n",
    "    values = np.random.randint(1,7,10)\n",
    "    sum_val = sum(values)\n",
    "    r.append(sum_val)\n",
    "    avg_v = r[i] / 10\n",
    "    avg_ten.append(avg_v)\n",
    "mu, std = stats.norm.fit(avg_ten)\n",
    "ax.hist(avg_ten,bins=50,density=True,alpha=.8); \n",
    "print(\"The mean is: {0}\".format(mu))\n",
    "print(\"The standard deviation is: {0}\".format(std))"
   ]
  },
  {
   "cell_type": "markdown",
   "metadata": {},
   "source": [
    "This distribution is gaussian. We can see that the mean is 3.5, which is the expected value in this case for 1-6. There is also a clear \"peak\" centered at the mean and the overall shape resembles a gaussian bell curve."
   ]
  },
  {
   "cell_type": "markdown",
   "metadata": {},
   "source": [
    "### 5"
   ]
  },
  {
   "cell_type": "code",
   "execution_count": 6,
   "metadata": {},
   "outputs": [
    {
     "name": "stdout",
     "output_type": "stream",
     "text": [
      "The mean is: 35.045\n",
      "The standard deviation is: 5.395273394370298\n"
     ]
    },
    {
     "data": {
      "image/png": "[encoded data removed]",
      "text/plain": [
       "<Figure size 432x288 with 1 Axes>"
      ]
     },
     "metadata": {
      "needs_background": "light"
     },
     "output_type": "display_data"
    }
   ],
   "source": [
    "fig, ax = plt.subplots(1,1)\n",
    "dice = [1,2,3,4,5,6]\n",
    "r = []\n",
    "avg_ten = []\n",
    "for i in range(0,1000):\n",
    "    values = np.random.randint(1,7,10)\n",
    "    sum_val = sum(values)\n",
    "    r.append(sum_val)\n",
    "    \n",
    "    \n",
    "mu, std = stats.norm.fit(r)\n",
    "ax.hist(r,bins=50,density=True,alpha=.8); \n",
    "print(\"The mean is: {0}\".format(mu))\n",
    "print(\"The standard deviation is: {0}\".format(std))"
   ]
  },
  {
   "cell_type": "markdown",
   "metadata": {},
   "source": [
    "This is also a gaussian. The standard deviation changes with respect to the variance. So it is different than if the two standard deviations were just added together. For integrating a signal over time, we need to reevaluate the distribution each time as the standard deviation is changing."
   ]
  },
  {
   "cell_type": "code",
   "execution_count": null,
   "metadata": {},
   "outputs": [],
   "source": []
  }
 ],
 "metadata": {
  "kernelspec": {
   "display_name": "Python 3",
   "language": "python",
   "name": "python3"
  },
  "language_info": {
   "codemirror_mode": {
    "name": "ipython",
    "version": 3
   },
   "file_extension": ".py",
   "mimetype": "text/x-python",
   "name": "python",
   "nbconvert_exporter": "python",
   "pygments_lexer": "ipython3",
   "version": "3.6.8"
  }
 },
 "nbformat": 4,
 "nbformat_minor": 2
}
